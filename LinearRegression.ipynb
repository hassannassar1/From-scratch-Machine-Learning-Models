{
 "cells": [
  {
   "cell_type": "code",
   "execution_count": 1,
   "metadata": {},
   "outputs": [],
   "source": [
    "import pandas as pd\n",
    "import numpy as np"
   ]
  },
  {
   "cell_type": "code",
   "execution_count": 2,
   "metadata": {},
   "outputs": [],
   "source": [
    "x = np.linspace(1,10,100)\n",
    "y = 1 + 2*x"
   ]
  },
  {
   "cell_type": "code",
   "execution_count": 3,
   "metadata": {},
   "outputs": [],
   "source": [
    "class LinearRegression:\n",
    "    \n",
    "    def __init__(self, alpha=.01, max_iter=100):\n",
    "        self.coef_ = None\n",
    "        self.intercept_ = None\n",
    "        self.alpha = alpha\n",
    "        self.max_iter = max_iter\n",
    "        \n",
    "    def fit(self,X,Y):\n",
    "        \n",
    "        if len(X.shape) == 1:\n",
    "            X = X.reshape(-1,1)\n",
    "            \n",
    "        self.coef_ = np.random.random(size=(1,X.shape[1]))\n",
    "        \n",
    "        for i in range(self.max_iter):\n",
    "            \n",
    "            hx = np.dot(X,self.coef_)\n",
    "            self.coef_ = self.__update_weights(hx,X,Y)\n",
    "            \n",
    "    def __update_weights(self,hx,X,Y):\n",
    "        errors = np.subtract(hx.T.reshape(-1,),Y)\n",
    "        gradient =  np.dot(X.T,errors)/X.shape[0]\n",
    "        return self.coef_ - self.alpha * gradient.T\n",
    "    \n",
    "    def predict(self,X):\n",
    "        return np.dot(X,self.coef_)\n",
    "\n",
    "model = LinearRegression()\n",
    "model.fit(x,y)"
   ]
  },
  {
   "cell_type": "code",
   "execution_count": 4,
   "metadata": {},
   "outputs": [
    {
     "data": {
      "text/plain": [
       "array([[2.14810282]])"
      ]
     },
     "execution_count": 4,
     "metadata": {},
     "output_type": "execute_result"
    }
   ],
   "source": [
    "model.coef_"
   ]
  },
  {
   "cell_type": "code",
   "execution_count": 5,
   "metadata": {},
   "outputs": [
    {
     "data": {
      "text/plain": [
       "array([[10.74051408]])"
      ]
     },
     "execution_count": 5,
     "metadata": {},
     "output_type": "execute_result"
    }
   ],
   "source": [
    "model.predict(5)"
   ]
  }
 ],
 "metadata": {
  "kernelspec": {
   "display_name": "Python 3",
   "language": "python",
   "name": "python3"
  },
  "language_info": {
   "codemirror_mode": {
    "name": "ipython",
    "version": 3
   },
   "file_extension": ".py",
   "mimetype": "text/x-python",
   "name": "python",
   "nbconvert_exporter": "python",
   "pygments_lexer": "ipython3",
   "version": "3.8.8"
  }
 },
 "nbformat": 4,
 "nbformat_minor": 2
}
