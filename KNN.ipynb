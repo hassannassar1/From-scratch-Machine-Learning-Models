{
 "cells": [
  {
   "cell_type": "code",
   "execution_count": 1,
   "id": "6a98815c",
   "metadata": {},
   "outputs": [],
   "source": [
    "import numpy as np"
   ]
  },
  {
   "cell_type": "code",
   "execution_count": 2,
   "id": "aac06333",
   "metadata": {},
   "outputs": [],
   "source": [
    "class KNN:\n",
    "    \n",
    "    def __init__(self, k):\n",
    "        \n",
    "        self.k = k\n",
    "        self.distances = list()\n",
    "        self.X = None\n",
    "        self.y = None\n",
    "        \n",
    "    def __euclidean_distance(self, r1, r2):\n",
    "        \n",
    "        distance = 0.0\n",
    "        for i in range(len(r1)):\n",
    "            distance += (r1[i] - r2[i])**2\n",
    "        return np.sqrt(distance) #np.sqrt(np.sum((r1-r2)**2))\n",
    "    \n",
    "    def __manhattan_distance(self, r1, r2):\n",
    "        \n",
    "        distance = 0.0\n",
    "        for i in range(len(r1)):\n",
    "            distance += np.abs(r1[i] - r2[i])\n",
    "        return distance  #np.sum(np.abs(r1-r2))\n",
    "    \n",
    "    def fit(self, X, y):\n",
    "        self.X = X\n",
    "        self.y = y\n",
    "    \n",
    "    def __get_neighbors(self, test_row):\n",
    "        \n",
    "        neighbors = list()\n",
    "        \n",
    "        for i in range(len(self.X)):\n",
    "            dist = self.__euclidean_distance(test_row, self.X[i])\n",
    "            self.distances.append((self.y[i], dist))\n",
    "        \n",
    "        self.distances.sort(key=lambda x: x[1])\n",
    "        \n",
    "        for i in range(self.k):\n",
    "            neighbors.append(self.distances[i][0])\n",
    "        return neighbors\n",
    "    \n",
    "    def predict(self, point):\n",
    "        \n",
    "        neighbors = self.__get_neighbors(point)\n",
    "        prediction = max(set(neighbors), key=neighbors.count)\n",
    "        return prediction"
   ]
  },
  {
   "cell_type": "code",
   "execution_count": 3,
   "id": "3c9b05cc",
   "metadata": {},
   "outputs": [
    {
     "data": {
      "text/plain": [
       "0.0"
      ]
     },
     "execution_count": 3,
     "metadata": {},
     "output_type": "execute_result"
    }
   ],
   "source": [
    "dataset = np.array([[2.7810836,2.550537003,0],\n",
    "           [1.465489372,2.362125076,0],\n",
    "           [3.396561688,4.400293529,0],\n",
    "           [1.38807019,1.850220317,0],\n",
    "           [3.06407232,3.005305973,0],\n",
    "           [7.627531214,2.759262235,1],\n",
    "           [5.332441248,2.088626775,1],\n",
    "           [6.922596716,1.77106367,1],\n",
    "           [8.675418651,-0.242068655,1],\n",
    "           [7.673756466,3.508563011,1]])\n",
    "\n",
    "X, y = dataset[:,:2], dataset[:,2]\n",
    "n = KNN(3)\n",
    "n.fit(X,y)\n",
    "n.predict(X[0])"
   ]
  },
  {
   "cell_type": "code",
   "execution_count": null,
   "id": "57a5d091",
   "metadata": {},
   "outputs": [],
   "source": []
  }
 ],
 "metadata": {
  "kernelspec": {
   "display_name": "Python 3",
   "language": "python",
   "name": "python3"
  },
  "language_info": {
   "codemirror_mode": {
    "name": "ipython",
    "version": 3
   },
   "file_extension": ".py",
   "mimetype": "text/x-python",
   "name": "python",
   "nbconvert_exporter": "python",
   "pygments_lexer": "ipython3",
   "version": "3.8.8"
  }
 },
 "nbformat": 4,
 "nbformat_minor": 5
}
